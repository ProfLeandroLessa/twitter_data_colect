{
 "cells": [
  {
   "attachments": {},
   "cell_type": "markdown",
   "metadata": {},
   "source": [
    "\n",
    "\n",
    "# <center>  Coleta de dados no Twitter  \n",
    "![](doc_imgs/img_twitter_data_collect.png)\n",
    "***\n",
    "Neste exemplo prático vamos realizar uma coleta de dados simples utilizando a API do twitter. \n",
    "    \n",
    "    \n",
    "Requisitos para realizar essa tarefa:\n",
    "\n",
    "- Possuir uma conta no twitter\n",
    "- Realizar o cadastro como desenvolvedor no link: https://developer.twitter.com/en\n",
    " - Veja o passo a passo em: https://github.com/ProfLeandroLessa/twitter_data_colect/tree/master/manual\n",
    "\n",
    "***\n"
   ]
  },
  {
   "cell_type": "markdown",
   "metadata": {},
   "source": [
    "### Instalando bibliotecas\n",
    "\n",
    "Para essa atividade vamos utilizar as bibliotecas tweepy, pandas e python-dotenv"
   ]
  },
  {
   "cell_type": "code",
   "execution_count": null,
   "metadata": {},
   "outputs": [],
   "source": [
    "!pip install tweepy # biblioteca para acessar dados do twitter\n",
    "!pip install pandas # biblioteca para manipulação de dataframes"
   ]
  },
  {
   "cell_type": "markdown",
   "metadata": {},
   "source": [
    "### Documentação da biblioteca Tweepy\n",
    "https://docs.tweepy.org/en/latest/getting_started.html"
   ]
  },
  {
   "attachments": {},
   "cell_type": "markdown",
   "metadata": {},
   "source": [
    "### Instalando biblioteca para trabalhar com variáveis de ambientes\n",
    ">!pip install python-dotenv\n",
    "\n",
    "### Variáveis de ambiente\n",
    "***\n",
    "Como o próprio nome diz, são variáveis utilizadas no ambiente na qual a aplicação (programa/script) esta sendo executada. \n",
    "Uma variável de ambiente possui uma serie de informações que estão estruturadas de forma de um dicionário. No qual temos uma chave e um valor. \n",
    "\n",
    "As variáveis de embientes podem ser utilizadas de varias maneiras. No entanto, é muito utilizada para armazenar chaves e senhas. Embora existam outros métodos mais elaborados. \n",
    "\n",
    "Vamos utilizar esse tipo de variável para encapsular os usuários e senhas da nossa aplicação. Desta forma, no lugar de deixar as usuários e senhas expostas no nosso código, vamos busca-las das variáveis de ambientes. \n",
    "\n",
    "Na prática, vamos possuir um arquivo de texto com a extensão .env no qual teremos todas as informações que estamos armazenando.\n",
    "\n",
    "Exemplo de um arquivo de .env\n",
    "\n",
    "![](doc_imgs/example_env.png)"
   ]
  },
  {
   "cell_type": "markdown",
   "metadata": {},
   "source": [
    "## Importando as bibliotecas "
   ]
  },
  {
   "cell_type": "code",
   "execution_count": 1,
   "metadata": {},
   "outputs": [
    {
     "data": {
      "text/plain": [
       "True"
      ]
     },
     "execution_count": 1,
     "metadata": {},
     "output_type": "execute_result"
    }
   ],
   "source": [
    "import tweepy as tw\n",
    "import pandas as pd\n",
    "import os #Bibloteca utilizada para navegar em arquivos do Sistema operacional\n",
    "from dotenv import load_dotenv #Biblioteca que realiza o acesso ao arquivo .env do diretório\n",
    "load_dotenv() #Atualiza o arquivo do .env"
   ]
  },
  {
   "cell_type": "markdown",
   "metadata": {},
   "source": [
    "### Verificando versão das bibliotecas instaladas\n",
    "\n",
    "Abaixo segue as versões das bibliotecas utilizadas no projeto."
   ]
  },
  {
   "cell_type": "code",
   "execution_count": 2,
   "metadata": {},
   "outputs": [
    {
     "name": "stdout",
     "output_type": "stream",
     "text": [
      "Versão da biblioteca do tweepy: 3.10.0\n",
      "Versão da biblioteca do pandas: 1.2.1\n"
     ]
    }
   ],
   "source": [
    "print(f'Versão da biblioteca do tweepy: {tw.__version__}')\n",
    "print(f'Versão da biblioteca do pandas: {pd.__version__}')"
   ]
  },
  {
   "attachments": {},
   "cell_type": "markdown",
   "metadata": {},
   "source": [
    "## Chaves de acesso fornecidas pelo Twitter\n",
    "\n",
    "Abaixo segue um exemplo das chaves de acesso fornecidas pelo Twitter no momento da liberação da conta de desenvolvedor.\n",
    "\n",
    "![](doc_imgs/example_keys_twiiter.png)"
   ]
  },
  {
   "attachments": {},
   "cell_type": "markdown",
   "metadata": {},
   "source": [
    "# Criandro e acessando arquivo .env \n",
    "\n",
    "Vamos copiar as chaves de acesso fornecidas pelo twiter e salvar em um arquivo do tipo env. Para isso, basta criar um documento do tipo txt e copiar as chaves e salvar o aquivo com o nome .env. PS: Esse arquivo vamos salvar no diretório do projeto da coleta do Twitter. \n",
    "\n",
    "A ideia é criar uma estrutura de chaves e valor no aquivo e depois criar um código em python para acessa-las e, em seguida, adicionar o valor das chaves em variáveis locais. Dessa forma, para cada chave do arquivo .env será uma referência das chaves disponibilizadas do Twitter.\n",
    "\n",
    "Abaixo contém um exemplo de como o conteúdo do arquivo deverá ser criado.\n",
    "\n",
    "![](doc_imgs/example_keys_twiiter_02.png)"
   ]
  },
  {
   "cell_type": "markdown",
   "metadata": {},
   "source": [
    "### Acessando variáveis do arquivo .env\n",
    "\n",
    "Abaixo ilustramos a forma de como acessar o conteúdo das chaves contidos dentro do arquivo .env"
   ]
  },
  {
   "cell_type": "code",
   "execution_count": 3,
   "metadata": {},
   "outputs": [
    {
     "name": "stdout",
     "output_type": "stream",
     "text": [
      "Sua_senha\n"
     ]
    }
   ],
   "source": [
    "print(os.environ['senha'])"
   ]
  },
  {
   "cell_type": "code",
   "execution_count": 4,
   "metadata": {},
   "outputs": [
    {
     "data": {
      "text/plain": [
       "'leandroigti'"
      ]
     },
     "execution_count": 4,
     "metadata": {},
     "output_type": "execute_result"
    }
   ],
   "source": [
    "usuario_login = os.environ['user_db']\n",
    "usuario_login # Exibindo conteúdo da variável"
   ]
  },
  {
   "cell_type": "markdown",
   "metadata": {},
   "source": [
    "### Coletando dados do arquivo .env e atribuindo as váriaveis\n",
    "\n",
    "Nesse passo, estamos coletando os dados contidos nas chaves do arquivo .env e atribuindo as variáveis que serão utilzadas para autentificação da API.\n"
   ]
  },
  {
   "cell_type": "code",
   "execution_count": 5,
   "metadata": {},
   "outputs": [],
   "source": [
    "consumer_key = os.environ['api_key']\n",
    "consumer_secret = os.environ['api_key_secret']\n",
    "token = os.environ['bearer_token']\n",
    "access_token = os.environ['access_token'] \n",
    "access_token_secret = os.environ['access_token_secret'] "
   ]
  },
  {
   "cell_type": "markdown",
   "metadata": {},
   "source": [
    "## Realizando autentificação na API do Twitter"
   ]
  },
  {
   "cell_type": "code",
   "execution_count": 6,
   "metadata": {},
   "outputs": [],
   "source": [
    "try:\n",
    "    auth = tw.OAuthHandler(consumer_key, consumer_secret)\n",
    "    auth.set_access_token(access_token, access_token_secret)\n",
    "    api = tw.API(auth) # Cria a conexão de acesso com o twitter\n",
    "    api.home_timeline() # coleta todos os primeiros twittes da timeline\n",
    "except  Exception as e:\n",
    "    print(f'Não foi possível realizar a conexão: ERRO: {e}')\n"
   ]
  },
  {
   "cell_type": "markdown",
   "metadata": {},
   "source": [
    "## Coletando tweets da timeline do usuário"
   ]
  },
  {
   "cell_type": "code",
   "execution_count": 8,
   "metadata": {},
   "outputs": [],
   "source": [
    "public_tweets = api.home_timeline() # Pega todos os primeiros twittes da timeline"
   ]
  },
  {
   "cell_type": "markdown",
   "metadata": {},
   "source": [
    "## Visualizando os tweets  públicos da timeline de forma estruturada"
   ]
  },
  {
   "cell_type": "code",
   "execution_count": 9,
   "metadata": {},
   "outputs": [
    {
     "name": "stdout",
     "output_type": "stream",
     "text": [
      "Going to ODSC West 2022, either virtually or in person? Here are some networking meetups and extra events that you… https://t.co/aHdLRdCijv\n",
      "Check out our video of the week page for free access to a new expert-led talk on a cutting-edge or essential… https://t.co/MiGcL03NZ9\n",
      "Join our FREE #ODSCWebinar to learn how to build a basic weakly supervised system for an NLP task and then augment… https://t.co/zMaUVKtSEx\n",
      "Don't sleep on SQL for data science - given its flexibility, ease of use, and timeless nature, it's going to stay i… https://t.co/qz7rPq1nuB\n",
      "For #datascientists, there's no shortage of obstacles so find one you can tackle now with the time &amp; resources avai… https://t.co/B1SgoAtx6j\n",
      "The AI has eyes. Researchers have taken inspiration from human eyes to create a device that captures visual informa… https://t.co/xXpcbxETK2\n",
      "Join us at #ODSCAPAC Virtual this September for 15+ expert-led talks on #MachineLearning, Deep Learning, #NLP, and… https://t.co/tuEk6Ekzyh\n",
      "In a recent paper from Google AI, “Multi-Game Decision Transformers” they explore how to build a generalist agent t… https://t.co/0NexwpbZEJ\n",
      "Here are some trending improvements to the education scene happening because of this online training expansion into… https://t.co/2OZ4qXef2q\n",
      "Upskill your whole team in the latest advancements in #ML, #DL, #NLP, and more at #ODSCWest 2022 with this limited-… https://t.co/SBFHoX1Z1G\n",
      "Continuing our #PyTorch 1.12 Release highlights, TorchData is now integrated with AWSSDK based DataPipes for file r… https://t.co/qIWM7O0MPR\n",
      "Researchers at the University of Ottawa have found a way to use AI and deep learning to identify potential birth de… https://t.co/AmOwitpeJJ\n",
      "Upload your resume to Ai+ Careers and let our recommendation engine help match you with your next great job. Sign u… https://t.co/blzr8wNzH3\n",
      "Join us at ODSC APAC 2022, and immerse yourself in Deep Learning. Learn route optimization using reinforcement lear… https://t.co/Na6pNE3RNx\n",
      "Afraid that you missed out on groundbreaking sessions from ODSC Europe? We got you covered! Learn about topics such… https://t.co/fFjSAtOJ7x\n",
      "We want to know: What questions do you have about using PyTorch in Production? \n",
      "\n",
      "👇👇👇 Drop your questions below and… https://t.co/AgDvuMGrQ7\n",
      "We looked at over 25,000 job listings and these are the trending machine learning engineering platforms and skills… https://t.co/DBD02dfQ9n\n",
      "It’s here! Check out #ODSCAPAC’s preliminary schedule for details on our expert speakers and their sessions.… https://t.co/B0od6HJiPq\n",
      "Build taxonomy-based contextual targeting using AWS Media Intelligence and Hugging Face BERT. #DataScience #ML… https://t.co/VSQvtSlVKO\n",
      "Here’s how Google Health utilizes advanced ML methods to generate pre-trained “CXR networks” that can convert CXR i… https://t.co/aIPIo3wV7s\n"
     ]
    }
   ],
   "source": [
    "for tweet in public_tweets: # mostra os principais tweets da time line\n",
    "    print(tweet.text)"
   ]
  },
  {
   "cell_type": "markdown",
   "metadata": {},
   "source": [
    "##  Extraindo tweets baseado em um tema\n",
    "\n",
    "Para buscar os tweets vamos utilizar a função cursor da biblioteca tweepy.\n",
    "\n",
    "Para saber como utilizar essa função podemos abrir a documentação da biblioteca. https://docs.tweepy.org/en/v3.5.0/cursor_tutorial.html\n",
    "\n"
   ]
  },
  {
   "cell_type": "code",
   "execution_count": 10,
   "metadata": {},
   "outputs": [],
   "source": [
    "#Cria string com a palavra que será pesquisada nos tweets\n",
    "busca_palavras = 'analista de dados' \n",
    "\n",
    "# busca todos os tweets relacionado a(s) palavra(s) procuradas\n",
    "tweets = tw.Cursor(api.search, # metodo da API para busrcar tweets\n",
    "            q=busca_palavras).items(50) # especifica o número de tweets retornados"
   ]
  },
  {
   "cell_type": "markdown",
   "metadata": {},
   "source": [
    "### Visualizando alguns atributos de um tweet"
   ]
  },
  {
   "cell_type": "code",
   "execution_count": 11,
   "metadata": {},
   "outputs": [
    {
     "name": "stdout",
     "output_type": "stream",
     "text": [
      "singela RT @paralelebipede: analista de dados eh tipo sim esse dado tem seis faces. proximo\n",
      "enola gomes💃🏻 RT @paralelebipede: analista de dados eh tipo sim esse dado tem seis faces. proximo\n",
      "G RT @paralelebipede: analista de dados eh tipo sim esse dado tem seis faces. proximo\n",
      "Jolyne kinnie ꒰ఎ🦋໒꒱ RT @paralelebipede: analista de dados eh tipo sim esse dado tem seis faces. proximo\n",
      "eduarda RT @paralelebipede: analista de dados eh tipo sim esse dado tem seis faces. proximo\n",
      "EDSON RENATO RT @Anna_Lupereira: @UOLNoticias Na falta de DADOS E FATOS DE ANALISTA POLÍTICO E DE PESQUISA SÉRIA DE OPINIÃO c/Bolsonaro se mexendo p/cim…\n",
      "griton RT @paralelebipede: analista de dados eh tipo sim esse dado tem seis faces. proximo\n",
      "Anna 🚩fé na vida é resistir @UOLNoticias Na falta de DADOS E FATOS DE ANALISTA POLÍTICO E DE PESQUISA SÉRIA DE OPINIÃO c/Bolsonaro se mexendo p… https://t.co/RWG7EYDa4q\n",
      "I am I am I am RT @paralelebipede: analista de dados eh tipo sim esse dado tem seis faces. proximo\n",
      "Bianca Muniz RT @agenciapublica: Jovens de comunidades, pessoas negras e em situação de vulnerabilidade estão criando novas formas de pensar suas realid…\n",
      "Nay*ESPOSA DE SARGENTO* Eu queria muito entender pq q eu resolvi me formar como Analista de Dados??????\n",
      "O que eu bebi pra ter achado essa i… https://t.co/7GsEkVOKRI\n",
      "King Sisan - Edição vacinado deluxe 💥🐊 @olozhikaik @paralelebipede Sim, sou um analista de dados\n",
      "Y. RT @paralelebipede: analista de dados eh tipo sim esse dado tem seis faces. proximo\n",
      "sasaruê RT @paralelebipede: analista de dados eh tipo sim esse dado tem seis faces. proximo\n",
      "Cílios Malafaia @marcofeliciano @ASachsida @petrobras Falou o Mensageiro do Capeta, agora também Economista e Analista de Dados. 😝 Impressionante! 😜\n",
      "Ana Lívia RT @paralelebipede: analista de dados eh tipo sim esse dado tem seis faces. proximo\n",
      "Hitmarker Brasil 🇧🇷 A oportunidade de Análise de Dados vem prontinha na @tappsgames 📊\n",
      "\n",
      "💼 Analista de App Analytics II\n",
      "🏢 Tapps Games \n",
      "🇧🇷… https://t.co/C3sRjMQEJ6\n",
      "gabu RT @paralelebipede: analista de dados eh tipo sim esse dado tem seis faces. proximo\n",
      "Cleide Assunção 🚩🌈1️⃣3️⃣🌍🚩 RT @agenciapublica: Jovens de comunidades, pessoas negras e em situação de vulnerabilidade estão criando novas formas de pensar suas realid…\n",
      "#EuAvisei RT @agenciapublica: Jovens de comunidades, pessoas negras e em situação de vulnerabilidade estão criando novas formas de pensar suas realid…\n",
      "carou RT @paralelebipede: analista de dados eh tipo sim esse dado tem seis faces. proximo\n",
      "Felipe Gouveia RT @paralelebipede: analista de dados eh tipo sim esse dado tem seis faces. proximo\n",
      "Agência Pública Jovens de comunidades, pessoas negras e em situação de vulnerabilidade estão criando novas formas de pensar suas re… https://t.co/dL7a8FybZf\n",
      "Data Science Academy Está disponível no curso Análise de Dados com Microsoft Power BI e Clínica de BI a avaliação final e o certificado… https://t.co/ztsASIRuOY\n",
      "jess cansada eu gosto muito do meu trabalho sabe mas bases de dados em excel e a chave sendo o nome da pessoa não tem um analista de dados que aguente\n",
      "cansada o Alexandre rateando curso de inglês pago e ótimo com duração de 1 ano e pouco de graça para mamacita aqui, as vant… https://t.co/oAFCu6QsaP\n",
      "ana RT @paralelebipede: analista de dados eh tipo sim esse dado tem seis faces. proximo\n",
      "mateus RT @paralelebipede: analista de dados eh tipo sim esse dado tem seis faces. proximo\n",
      "carolzinha RT @paralelebipede: analista de dados eh tipo sim esse dado tem seis faces. proximo\n",
      "todd RT @paralelebipede: analista de dados eh tipo sim esse dado tem seis faces. proximo\n",
      "dublê de piroca do willem dafoe RT @paralelebipede: analista de dados eh tipo sim esse dado tem seis faces. proximo\n",
      "TI Infojobs PTC GROUP BRASIL oferece vaga para São Paulo-SPENENHEIRO DE DADOS Analista De Dados https://t.co/gGkl1zZBHd\n",
      "Marian🅰️ RT @paralelebipede: analista de dados eh tipo sim esse dado tem seis faces. proximo\n",
      "o cavalo de renaissance RT @paralelebipede: analista de dados eh tipo sim esse dado tem seis faces. proximo\n",
      "J. 🍓 RT @paralelebipede: analista de dados eh tipo sim esse dado tem seis faces. proximo\n",
      "Rachara Raxanna RT @paralelebipede: analista de dados eh tipo sim esse dado tem seis faces. proximo\n",
      "romântica incurável 🤒 RT @paralelebipede: analista de dados eh tipo sim esse dado tem seis faces. proximo\n",
      "deuz🅰️ do esgoto RT @paralelebipede: analista de dados eh tipo sim esse dado tem seis faces. proximo\n",
      "larissa RT @paralelebipede: analista de dados eh tipo sim esse dado tem seis faces. proximo\n",
      "Thais RT @paralelebipede: analista de dados eh tipo sim esse dado tem seis faces. proximo\n",
      "luiz carla csc (24/45) RT @paralelebipede: analista de dados eh tipo sim esse dado tem seis faces. proximo\n",
      "matheuZol meu gestor vai entrar de férias e assegurou a qualidade do meu trampo pro analista externo estou tipo 🥹👉👈 falou que… https://t.co/FOzaSYVV2h\n",
      "And RT @paralelebipede: analista de dados eh tipo sim esse dado tem seis faces. proximo\n",
      "gentil RT @paralelebipede: analista de dados eh tipo sim esse dado tem seis faces. proximo\n",
      "nic RT @paralelebipede: analista de dados eh tipo sim esse dado tem seis faces. proximo\n",
      "penariol RT @paralelebipede: analista de dados eh tipo sim esse dado tem seis faces. proximo\n",
      "miguel jeferson RT @paralelebipede: analista de dados eh tipo sim esse dado tem seis faces. proximo\n",
      "junin RT @paralelebipede: analista de dados eh tipo sim esse dado tem seis faces. proximo\n",
      "Luis Araujo RT @CNNBrasil: A produção industrial recuou 0,4% na passagem de maio para junho, após quatro meses consecutivos de alta, informou o IBGE (I…\n",
      "CNN Brasil Business A produção industrial recuou 0,4% na passagem de maio para junho, após quatro meses consecutivos de alta, informou… https://t.co/BibFYHi92P\n"
     ]
    }
   ],
   "source": [
    "#Para cada tweet na lista de tweets, imprima o nome do usuário e o texto postado\n",
    "for tweet in tweets:\n",
    "    print(tweet.user.name, tweet.text) # traz o texto contidos nos tweets"
   ]
  },
  {
   "cell_type": "markdown",
   "metadata": {},
   "source": [
    "## Verificando atributos de um  tweet\n",
    "\n",
    "O formato que a API do Twitter retorna é um arquivo no formato JSON. Esse arquivo consiste em uma estrutura de chave e valor.\n",
    "Veja abaixo a estrutura com vários atributos que um único tweet pode ter."
   ]
  },
  {
   "cell_type": "code",
   "execution_count": 12,
   "metadata": {},
   "outputs": [
    {
     "data": {
      "text/plain": [
       "{'created_at': 'Tue Aug 02 12:39:47 +0000 2022',\n",
       " 'id': 1554446865881567238,\n",
       " 'id_str': '1554446865881567238',\n",
       " 'text': 'A produção industrial recuou 0,4% na passagem de maio para junho, após quatro meses consecutivos de alta, informou… https://t.co/BibFYHi92P',\n",
       " 'truncated': True,\n",
       " 'entities': {'hashtags': [],\n",
       "  'symbols': [],\n",
       "  'user_mentions': [],\n",
       "  'urls': [{'url': 'https://t.co/BibFYHi92P',\n",
       "    'expanded_url': 'https://twitter.com/i/web/status/1554446865881567238',\n",
       "    'display_url': 'twitter.com/i/web/status/1…',\n",
       "    'indices': [116, 139]}]},\n",
       " 'metadata': {'iso_language_code': 'pt', 'result_type': 'recent'},\n",
       " 'source': '<a href=\"http://grabyo.com\" rel=\"nofollow\">Grabyo</a>',\n",
       " 'in_reply_to_status_id': None,\n",
       " 'in_reply_to_status_id_str': None,\n",
       " 'in_reply_to_user_id': None,\n",
       " 'in_reply_to_user_id_str': None,\n",
       " 'in_reply_to_screen_name': None,\n",
       " 'user': {'id': 1181629051309572096,\n",
       "  'id_str': '1181629051309572096',\n",
       "  'name': 'CNN Brasil Business',\n",
       "  'screen_name': 'CNNBrBusiness',\n",
       "  'location': 'São Paulo',\n",
       "  'description': 'O que move a economia. Agora.',\n",
       "  'url': 'https://t.co/ugAfrDsloe',\n",
       "  'entities': {'url': {'urls': [{'url': 'https://t.co/ugAfrDsloe',\n",
       "      'expanded_url': 'https://www.cnnbrasil.com.br/business/',\n",
       "      'display_url': 'cnnbrasil.com.br/business/',\n",
       "      'indices': [0, 23]}]},\n",
       "   'description': {'urls': []}},\n",
       "  'protected': False,\n",
       "  'followers_count': 141629,\n",
       "  'friends_count': 39,\n",
       "  'listed_count': 673,\n",
       "  'created_at': 'Tue Oct 08 17:55:04 +0000 2019',\n",
       "  'favourites_count': 0,\n",
       "  'utc_offset': None,\n",
       "  'time_zone': None,\n",
       "  'geo_enabled': False,\n",
       "  'verified': True,\n",
       "  'statuses_count': 32043,\n",
       "  'lang': None,\n",
       "  'contributors_enabled': False,\n",
       "  'is_translator': False,\n",
       "  'is_translation_enabled': False,\n",
       "  'profile_background_color': 'F5F8FA',\n",
       "  'profile_background_image_url': None,\n",
       "  'profile_background_image_url_https': None,\n",
       "  'profile_background_tile': False,\n",
       "  'profile_image_url': 'http://pbs.twimg.com/profile_images/1337104239940820997/9sHVBS17_normal.jpg',\n",
       "  'profile_image_url_https': 'https://pbs.twimg.com/profile_images/1337104239940820997/9sHVBS17_normal.jpg',\n",
       "  'profile_banner_url': 'https://pbs.twimg.com/profile_banners/1181629051309572096/1607614499',\n",
       "  'profile_link_color': '1DA1F2',\n",
       "  'profile_sidebar_border_color': 'C0DEED',\n",
       "  'profile_sidebar_fill_color': 'DDEEF6',\n",
       "  'profile_text_color': '333333',\n",
       "  'profile_use_background_image': True,\n",
       "  'has_extended_profile': True,\n",
       "  'default_profile': True,\n",
       "  'default_profile_image': False,\n",
       "  'following': False,\n",
       "  'follow_request_sent': False,\n",
       "  'notifications': False,\n",
       "  'translator_type': 'none',\n",
       "  'withheld_in_countries': []},\n",
       " 'geo': None,\n",
       " 'coordinates': None,\n",
       " 'place': None,\n",
       " 'contributors': None,\n",
       " 'is_quote_status': False,\n",
       " 'retweet_count': 1,\n",
       " 'favorite_count': 7,\n",
       " 'favorited': False,\n",
       " 'retweeted': False,\n",
       " 'possibly_sensitive': False,\n",
       " 'lang': 'pt'}"
      ]
     },
     "execution_count": 12,
     "metadata": {},
     "output_type": "execute_result"
    }
   ],
   "source": [
    "tweet._json"
   ]
  },
  {
   "cell_type": "markdown",
   "metadata": {},
   "source": [
    "## Visualizando tweets coletados"
   ]
  },
  {
   "cell_type": "markdown",
   "metadata": {},
   "source": [
    "Como pode ver acima, cada tweet possui vários atributos que podem ser utilizados para identificação e apresentação de um conteúdo. Abaixo segue alguns atributos que utilizaremos para realização da coleta de dados.\n",
    "\n",
    "**Atritutos:**\n",
    "    \n",
    "    1.  created_at: Data da publicação do tweet\n",
    "    2.  name: Contém o nome da usuário que postou o tweet\n",
    "    3.  description: Contém a descrição do usuário do tweet\n",
    "    4.  location: Localização no qual foi postado o tweet\n",
    "    5.  text - Conteúdo postado do tweet\n",
    "    "
   ]
  },
  {
   "cell_type": "markdown",
   "metadata": {},
   "source": [
    "## Explorandos outros atributos de um tweet"
   ]
  },
  {
   "cell_type": "code",
   "execution_count": 13,
   "metadata": {},
   "outputs": [
    {
     "data": {
      "text/plain": [
       "dict_keys(['_api', '_json', 'created_at', 'id', 'id_str', 'text', 'truncated', 'entities', 'metadata', 'source', 'source_url', 'in_reply_to_status_id', 'in_reply_to_status_id_str', 'in_reply_to_user_id', 'in_reply_to_user_id_str', 'in_reply_to_screen_name', 'author', 'user', 'geo', 'coordinates', 'place', 'contributors', 'is_quote_status', 'retweet_count', 'favorite_count', 'favorited', 'retweeted', 'possibly_sensitive', 'lang'])"
      ]
     },
     "execution_count": 13,
     "metadata": {},
     "output_type": "execute_result"
    }
   ],
   "source": [
    "# Para facilitar a visualização\n",
    "vars(tweet).keys() #retornar todas as chaves dentro de tweets"
   ]
  },
  {
   "cell_type": "markdown",
   "metadata": {},
   "source": [
    "### Veririando as chaves que estão dentro atributo user"
   ]
  },
  {
   "cell_type": "code",
   "execution_count": 14,
   "metadata": {},
   "outputs": [
    {
     "data": {
      "text/plain": [
       "dict_keys(['_api', '_json', 'id', 'id_str', 'name', 'screen_name', 'location', 'description', 'url', 'entities', 'protected', 'followers_count', 'friends_count', 'listed_count', 'created_at', 'favourites_count', 'utc_offset', 'time_zone', 'geo_enabled', 'verified', 'statuses_count', 'lang', 'contributors_enabled', 'is_translator', 'is_translation_enabled', 'profile_background_color', 'profile_background_image_url', 'profile_background_image_url_https', 'profile_background_tile', 'profile_image_url', 'profile_image_url_https', 'profile_banner_url', 'profile_link_color', 'profile_sidebar_border_color', 'profile_sidebar_fill_color', 'profile_text_color', 'profile_use_background_image', 'has_extended_profile', 'default_profile', 'default_profile_image', 'following', 'follow_request_sent', 'notifications', 'translator_type', 'withheld_in_countries'])"
      ]
     },
     "execution_count": 14,
     "metadata": {},
     "output_type": "execute_result"
    }
   ],
   "source": [
    "vars(tweet.user).keys() #retorna todas as chaves dentro do atributo user"
   ]
  },
  {
   "cell_type": "markdown",
   "metadata": {},
   "source": [
    "### Visualizando nome, localização e quantidade de seguidores de um usuário do tweet"
   ]
  },
  {
   "cell_type": "code",
   "execution_count": 15,
   "metadata": {},
   "outputs": [
    {
     "name": "stdout",
     "output_type": "stream",
     "text": [
      "CNN Brasil Business ---- São Paulo 141629\n"
     ]
    }
   ],
   "source": [
    "print(tweet.user.name,'----',tweet.user.location, tweet.user.followers_count)"
   ]
  },
  {
   "cell_type": "markdown",
   "metadata": {},
   "source": [
    "## Excluindo tweets repetidos\n",
    "\n",
    "Para excluir os tweets repetidos, vamos adicionar na string de busca o comando **\"-filter:retweets\"** para informar que não queremos informações de retweets"
   ]
  },
  {
   "cell_type": "code",
   "execution_count": 16,
   "metadata": {},
   "outputs": [],
   "source": [
    "busca_palavras = \"#vacina\" + \"-filter:retweets\" #Cria uma variável} que é atribuida as palavras que queremos extrair\n",
    "\n",
    "# busca todos os tweets relacionado a(s) palavra(s) procuradas\n",
    "tweets = tw.Cursor(api.search, # metodo da API para busrcar tweets\n",
    "            q=busca_palavras).items(50) # especifica o número de tweets retornados"
   ]
  },
  {
   "cell_type": "markdown",
   "metadata": {},
   "source": [
    "### Visualizando tweet de forma estruturada"
   ]
  },
  {
   "cell_type": "code",
   "execution_count": 17,
   "metadata": {},
   "outputs": [
    {
     "name": "stdout",
     "output_type": "stream",
     "text": [
      "2022-08-02 23:43:53 \n",
      " Luisa Diele-Viegas 🦎 ⭐️ \n",
      " Eu: 2,5 anos de pandemia sem pegar COVID e mantendo a ⭐️ da OMS intacta (até onde eu sei) ✅\n",
      "4/4 doses da #vacina 💉✅… https://t.co/peCf7LzCsa \n",
      "\n",
      "2022-08-02 22:01:49 \n",
      " Sobre Tudo \n",
      " 🚨 Mais de 15 mil doses da vacina contra a COVID-19 perderão a validade hoje na cidade do Rio de janeiro, prefeitura… https://t.co/8mwqOJu6Iq \n",
      "\n",
      "2022-08-02 21:50:20 \n",
      " Grupo do bem estar \n",
      " #Brasil tem mais de 1.500 casos confirmados de #VaríoladosMacacos ou #MonkeyPox.A Maioria em SP. Grupo mais afetado… https://t.co/PQWHDuJ1RX \n",
      "\n",
      "2022-08-02 21:02:56 \n",
      " Jornal de Alagoas \n",
      " Maceió começa a vacinar crianças de 4 anos contra a Covid-19\n",
      "\n",
      "https://t.co/OdDxNqNCnA\n",
      "\n",
      "#maceió #vacina #crianças… https://t.co/4vS0dxTF3Y \n",
      "\n",
      "2022-08-02 19:27:14 \n",
      " Rafael Rossi \n",
      " #Mirassol #regiao #Noticias #COVID  #Covid19 #COVID19pt #COVID19br  #PortalDaCidade #jornalismo #vacina #vacinação… https://t.co/i6jYxuMRgH \n",
      "\n",
      "2022-08-02 19:18:39 \n",
      " raffys \n",
      " Segunda dose de reforço check \n",
      "\n",
      "#Vacina \n",
      "\n",
      "2022-08-02 19:03:26 \n",
      " ELEICAO/22-Valeska🇧 🇴 🇱 🇸 🇴 🇳 🇦 🇷 🇴 22 \n",
      " @RICNoticias24h @CNNBrasil e @JovemPanNews mostraram hj aNOTÍCIA d fato q já ocorreu 1 mês e 2 meses atrás...👇\n",
      "Que… https://t.co/y04dN8NsSZ \n",
      "\n",
      "2022-08-02 18:40:53 \n",
      " Yuri Bacuri \n",
      " Um bacuri imunizado pela 4a vez não quer guerra com ninguem. É aquele papo: se não postar não faz efeito. 😬✅ \n",
      ".\n",
      ".\n",
      ".… https://t.co/DvvPd5AOcC \n",
      "\n",
      "2022-08-02 17:55:09 \n",
      " Diário de S. Paulo \n",
      " #AsMaisLidas Entenda o caso #vacina \n",
      "https://t.co/KXwcZAZyK8 \n",
      "\n",
      "2022-08-02 17:47:16 \n",
      " UniCiência \n",
      " Um compilado de informações sobre as subvariantes da Ômicron e como podemos ficar protegidos contra esses novos Cor… https://t.co/l4rJZi8sr3 \n",
      "\n",
      "2022-08-02 17:45:01 \n",
      " Revista VivaSaúde \n",
      " Nova vacina para herpes-zóster, doença que atingiu Justin Bieber e Fernanda Keulla, ainda só está disponibilizada n… https://t.co/Zw8lUIuJoV \n",
      "\n",
      "2022-08-02 17:13:08 \n",
      " SINSSP Oficial \n",
      " A OMS declarou a varíola dos macacos como emergência de saúde pública de interesse internacional. No Brasil, são 97… https://t.co/muDy3mXK3Z \n",
      "\n",
      "2022-08-02 16:10:29 \n",
      " Dalva \n",
      " Enquanto várias cidades do #ValeDoParaíba, #LitoralNorte, #SerraDaMantiqueira e #RegiãoBragantina já liberaram a ap… https://t.co/LTcXYFwv7x \n",
      "\n",
      "2022-08-02 15:00:13 \n",
      " John John \n",
      " Vamos falar de beleza mesmo é??? \n",
      "Bom dia vacinado! \n",
      "#4dose #vacina #COVID19 https://t.co/T65O3qr5No \n",
      "\n",
      "2022-08-02 14:57:01 \n",
      " 𝓐𝓷𝓪 𝓒𝓪𝓻𝓸𝓵𝓲𝓷𝓪❦ \n",
      " Gente, não sabia que o braço doía tanto na terceira dose do COVID! \n",
      "Nossa meu Deus 🙀\n",
      "#COVID19 #vacina # \n",
      "\n",
      "2022-08-02 13:28:46 \n",
      " TV Diversa \n",
      " A chegada ao Brasil das primeiras doses da vacina contra a varíola dos macacos (monkeypox) deve acontecer em setemb… https://t.co/7lmeV8KIfH \n",
      "\n",
      "2022-08-02 13:15:00 \n",
      " Metrópoles \n",
      " #Herpes-zóster: conheça benefícios da nova #vacina, com eficácia de 97%\n",
      "\n",
      "Imunizante é capaz de diminuir considerave… https://t.co/ebFPG3M0z6 \n",
      "\n",
      "2022-08-02 12:28:02 \n",
      " Rodrigo Souza \n",
      " Absurdo! Vacinas tendo que ser descartadas por falta de procura. É dinheiro público sendo jogado no lixo!… https://t.co/op0YFEu5Zh \n",
      "\n",
      "2022-08-02 12:03:06 \n",
      " PNotícias \n",
      " Covid-19: Salvador libera 4ª dose para pessoas entre 30 e 34 anos - https://t.co/Eo2HAVASCu \n",
      "#PNotícias #News… https://t.co/A5850ZcFfO \n",
      "\n",
      "2022-08-02 11:31:03 \n",
      " PORTAL VIVA COTIA \n",
      " Carapicuíba inicia aplicação da 4ª dose da vacina contra Covid-19 para pessoas com 25 anos ou mais. Leia mais em… https://t.co/BimUbtvQtT \n",
      "\n",
      "2022-08-02 11:03:20 \n",
      " BandNews FM Salvador \n",
      " A aplicação da 4ª dose da #vacina contra a Covid-19 é ampliada para pessoas com 30 anos a partir desta terça (2), e… https://t.co/9N60m7Tf0T \n",
      "\n",
      "2022-08-02 09:31:57 \n",
      " 🌶Fernanda Amaral🌶 \n",
      " #SUS #Vacina #Covid \n",
      "Tomei as vacinas por volta das 15:30 e lá pelas 19h comecei a sentir os primeiros sinais de re… https://t.co/iZZh3UvcyJ \n",
      "\n",
      "2022-08-02 09:31:56 \n",
      " 🌶Fernanda Amaral🌶 \n",
      " #SUS #Vacina #Covid\n",
      "Nesta segunda-feira, dia 1° de agosto de 2022, tomei finalmente a 4ª dose da VACINA CONTRA O CO… https://t.co/vezHuf2krS \n",
      "\n",
      "2022-08-02 04:36:17 \n",
      " Luiz \n",
      " @Guimaraes1106 @FlavioBolsonaro No Japão a vacinação começou em FEV/21 e lá todo mundo usa máscara.\n",
      "Veja que as mor… https://t.co/dzy2PWvMsd \n",
      "\n",
      "2022-08-02 04:32:41 \n",
      " Luiz \n",
      " @GsouzaRosmari @cynaramenezes No Japão a vacinação começou em FEV/21 e lá todo mundo usa máscara.\n",
      "Veja que as morte… https://t.co/BpKJh784kB \n",
      "\n",
      "2022-08-02 02:37:41 \n",
      " Betoo Campos \n",
      " 4°dose, ok! #COVID19 #Vacinasalvavidas #Vacina \n",
      "\n",
      "2022-08-02 00:41:44 \n",
      " Pais&Filhos \n",
      " Mais imunização! #vacina #covid #saúde \n",
      "https://t.co/oP4kGlxQWR \n",
      "\n",
      "2022-08-02 00:00:25 \n",
      " SINDpd-Ce \n",
      " Especialistas apontam riscos de estigmatização da doença e alertam que o combate precisa ser coletivo\n",
      "\n",
      "Leia mais em… https://t.co/m9BokHTAYV \n",
      "\n",
      "2022-08-01 22:04:59 \n",
      " Jornal de Alagoas \n",
      " Ônibus da Vacina permanece no Centro de Maceió até a próxima sexta (6)\n",
      "\n",
      "https://t.co/52XWP4nwcU\n",
      "\n",
      "#onibus #vacina… https://t.co/RDCnfm0ewR \n",
      "\n",
      "2022-08-01 21:16:26 \n",
      " Blog do Hiel Levy \n",
      " Saiba onde tem posto de vacinação contra a Covid-19 esta semana em Manaus\n",
      "\n",
      "Leia mais em: https://t.co/eF0w2MK5Gh… https://t.co/82JKm92m84 \n",
      "\n",
      "2022-08-01 20:37:20 \n",
      " Rafael Rossi \n",
      " #Mirassol #regiao #Noticias #COVID  #Covid19 #COVID19pt #COVID19br  #PortalDaCidade #jornalismo #vacina #vacinação… https://t.co/Q4kU8nf4ex \n",
      "\n",
      "2022-08-01 20:00:28 \n",
      " Brasil 61 \n",
      " O Ministério da Saúde está trabalhando com um quantitativo de aproximadamente 50 mil doses iniciais de imunizantes… https://t.co/Mn4pqR4Mir \n",
      "\n",
      "2022-08-01 18:14:26 \n",
      " Portal O Antenado \n",
      " Em todos os locais de atendimento haverá primeira, segunda, terceira e quarta dose. #Manaus #Vacina \n",
      "\n",
      "https://t.co/eiUOgnwDZE \n",
      "\n",
      "2022-08-01 18:04:12 \n",
      " Rádio Bandeirantes \n",
      " VARÍOLA DOS MACACOS | Brasil terá vacinas ainda este ano?\n",
      "\n",
      "#RádioBandeirantes #TradiçãoNoRádio #Saúde… https://t.co/pbk6yTuTGi \n",
      "\n",
      "2022-08-01 18:00:00 \n",
      " iBahia \n",
      " O imunizante será disponibilizado das 8h às 16h, em 75 pontos fixos e em quatro drives-thru. Locais serão divulgado… https://t.co/UvI0q30Hhd \n",
      "\n",
      "2022-08-01 17:43:16 \n",
      " SintectSP \n",
      " 💉 #Vacina | No próximo sábado, 08/08, será iniciada a Campanha Nacional de Vacinação contra a poliomielite, também… https://t.co/EwLoP4QbLz \n",
      "\n",
      "2022-08-01 17:06:31 \n",
      " Jonathan Pereira \n",
      " Não dá pra entender pais que preferem correr o risco de ver o filho na UTI do que escuta-lo chorar 2 minutos pq tom… https://t.co/nUPakUODh8 \n",
      "\n",
      "2022-08-01 16:56:31 \n",
      " SINDECTEB \n",
      " 💉 #Vacina | No próximo sábado, 08/08, será iniciada a Campanha Nacional de Vacinação contra a poliomielite, também… https://t.co/58FRUGC6vK \n",
      "\n",
      "2022-08-01 16:43:25 \n",
      " FindectOficial \n",
      " #Vacina | No próximo sábado, 08/08, será iniciada a Campanha Nacional de Vacinação contra a poliomielite, também co… https://t.co/xeFiPO0U9J \n",
      "\n",
      "2022-08-01 16:35:10 \n",
      " O Alto Acre \n",
      " #brasil #varioladosmacacos #ministro #vacina #antiviral https://t.co/mCL9e83Rjm \n",
      "\n",
      "2022-08-01 15:54:16 \n",
      " Dalva \n",
      " Que agosto traga o que julho não trouxe: a 4ª dose da vacina COVID-19 para as faixas etárias de 20 e 30 anos.… https://t.co/2LoAnsaTTb \n",
      "\n",
      "2022-08-01 15:19:25 \n",
      " bebito fiu fiu \n",
      " A minha parte eu fiz, tomei a quarta dose #vacina #COVID19 \n",
      "\n",
      "2022-08-01 14:09:57 \n",
      " Jornal Boqnews \n",
      " #Vacina Doses serão para profissionais de saúde e quem teve contato com doente\n",
      "https://t.co/En6dx1sweu \n",
      "\n",
      "2022-08-01 13:31:58 \n",
      " Amazonas Atual \n",
      " Pacientes de varíola dos macacos estão hospitalizados e em estado grave, informou Ministério da Saúde.\n",
      "\n",
      "#saúde… https://t.co/wVfioPMN6V \n",
      "\n",
      "2022-08-01 13:06:42 \n",
      " Rafael Rossi \n",
      " #Mirassol #regiao #Noticias #COVID  #Covid19 #COVID19pt #COVID19br  #PortalDaCidade #jornalismo #imunização #vacina… https://t.co/7c5rtjHSwK \n",
      "\n",
      "2022-08-01 12:41:06 \n",
      " PNotícias \n",
      " Salvador retoma esquema de vacinação contra Covid-19 nesta segunda-feira - https://t.co/2H1axe75kj \n",
      "#PNotícias… https://t.co/JyYx3IAB0X \n",
      "\n",
      "2022-08-01 12:11:12 \n",
      " Richard W. Sanchez \n",
      " Curiosidades do partido democrata americano.O que é inflação?Não sabem mas querem mudar a definição.O que é uma mul… https://t.co/sAEc0yDLk2 \n",
      "\n",
      "2022-08-01 11:43:51 \n",
      " Alvorada FM \n",
      " 🟠🏥 Ministério da Saúde anuncia compra de vacina contra a monkeypox. 💉😷\n",
      "\n",
      "Saiba mais: https://t.co/FwWfcZzYNP… https://t.co/ZOJktFjdxh \n",
      "\n",
      "2022-08-01 09:15:57 \n",
      " A VOZ CONTINUA \n",
      " #coronavírus #vacina https://t.co/HzKSHlmwYL \n",
      "\n",
      "2022-08-01 01:26:04 \n",
      " ELEICAO/22-Valeska🇧 🇴 🇱 🇸 🇴 🇳 🇦 🇷 🇴 22 \n",
      " @Edinholivero @FlavioBolsonaro @jairbolsonaro Vc sabe q @jairbolsonaro não tinha q responder e-mail d #Pfizer sobre… https://t.co/BYOM0iwAez \n",
      "\n"
     ]
    }
   ],
   "source": [
    "for tweet in tweets:\n",
    "    print( tweet.created_at, '\\n',  tweet.user.name, '\\n', tweet.text, '\\n') # traz o texto contidos nos tweets"
   ]
  },
  {
   "cell_type": "markdown",
   "metadata": {},
   "source": [
    "### Observação Importante\n",
    "\n",
    "O cursor é um método dinâmico. Dessa forma, todas as vezes que o método é executado novos resultados são retornados.\n",
    "Isso acontece porque os tweets são postados em tempo real.\n",
    "\n",
    "O próximo passo é criar uma estrututa de armazenamento para salvar os tweets que estamos coletando.\n"
   ]
  },
  {
   "cell_type": "markdown",
   "metadata": {},
   "source": [
    "## Criando lista de armazenamento\n",
    "Vamos criar uma lista vazia para adicionar os dados coletados de os tweets."
   ]
  },
  {
   "cell_type": "code",
   "execution_count": 18,
   "metadata": {},
   "outputs": [],
   "source": [
    "busca_palavras = \"#vacina\" + \"-filter:retweets\" #Cria uma variável que é atribuida as palavras que queremos extrair\n",
    "\n",
    "# busca todos os tweets relacionado a(s) palavra(s) procuradas\n",
    "tweets = tw.Cursor(api.search, # metodo da API para busrcar tweets\n",
    "            q=busca_palavras).items(100) # especifica o número de tweets retornados"
   ]
  },
  {
   "cell_type": "code",
   "execution_count": 19,
   "metadata": {},
   "outputs": [],
   "source": [
    "# Para cada tweet em tweets, vamos coletar as informações dos atributos que queremos armazenar.\n",
    "lista_tweets = []\n",
    "for tweet in tweets:\n",
    "    dados_tweet = []\n",
    "    dados_tweet.append(tweet.created_at) \n",
    "    dados_tweet.append(tweet.user.name) \n",
    "    dados_tweet.append(tweet.user.description) \n",
    "    dados_tweet.append(tweet.user.location)\n",
    "    dados_tweet.append(tweet.text)\n",
    "    \n",
    "    lista_tweets.append(dados_tweet)"
   ]
  },
  {
   "cell_type": "markdown",
   "metadata": {},
   "source": [
    "### Verificando a lista de tweets coletados"
   ]
  },
  {
   "cell_type": "code",
   "execution_count": 21,
   "metadata": {},
   "outputs": [
    {
     "data": {
      "text/plain": [
       "[[datetime.datetime(2022, 8, 2, 23, 43, 53),\n",
       "  'Luisa Diele-Viegas 🦎 ⭐️',\n",
       "  'PhD in Ecology and Evolution. Scientist. Herpetologist. Feminist. Activist. Vegan. Anti-racism. Anti-fascist. LGBTQIA+. Crossfiter. she/her ♀️🦎🌎💪✊🏳️\\u200d🌈',\n",
       "  '',\n",
       "  'Eu: 2,5 anos de pandemia sem pegar COVID e mantendo a ⭐️ da OMS intacta (até onde eu sei) ✅\\n4/4 doses da #vacina 💉✅… https://t.co/peCf7LzCsa'],\n",
       " [datetime.datetime(2022, 8, 2, 22, 1, 49),\n",
       "  'Sobre Tudo',\n",
       "  'Notícias sobre tudo do Brasil e do mundo, fiquem ligados!!',\n",
       "  '',\n",
       "  '🚨 Mais de 15 mil doses da vacina contra a COVID-19 perderão a validade hoje na cidade do Rio de janeiro, prefeitura… https://t.co/8mwqOJu6Iq'],\n",
       " [datetime.datetime(2022, 8, 2, 21, 50, 20),\n",
       "  'Grupo do bem estar',\n",
       "  'Pessoas que se encontram para colocar a ARTE, A CIÊNCIA HUMANISTA, o PROTAGONISMO CIDADÃO e a ESPIRITUALIDADE a serviço do BEM ESTAR e da FELICIDADE.',\n",
       "  'São Paulo, BRASIL',\n",
       "  '#Brasil tem mais de 1.500 casos confirmados de #VaríoladosMacacos ou #MonkeyPox.A Maioria em SP. Grupo mais afetado… https://t.co/PQWHDuJ1RX'],\n",
       " [datetime.datetime(2022, 8, 2, 21, 2, 56),\n",
       "  'Jornal de Alagoas',\n",
       "  'Melhor site de notícias de Alagoas. Sempre atualizado, com as últimas sobre política, economia e sociedade.',\n",
       "  'Alagoas, Brasil',\n",
       "  'Maceió começa a vacinar crianças de 4 anos contra a Covid-19\\n\\nhttps://t.co/OdDxNqNCnA\\n\\n#maceió #vacina #crianças… https://t.co/4vS0dxTF3Y'],\n",
       " [datetime.datetime(2022, 8, 2, 19, 27, 14),\n",
       "  'Rafael Rossi',\n",
       "  \"Jornalista Esportivo (Sports Journalist), Apresentador/Narrador/Repórter, papai da Juju (Juju's Daddy)!\",\n",
       "  'Cedral (SP-Brasil)',\n",
       "  '#Mirassol #regiao #Noticias #COVID  #Covid19 #COVID19pt #COVID19br  #PortalDaCidade #jornalismo #vacina #vacinação… https://t.co/i6jYxuMRgH'],\n",
       " [datetime.datetime(2022, 8, 2, 19, 18, 39),\n",
       "  'raffys',\n",
       "  'Sou um rapaz que gosta de tudo o que é novo. Amo artes e fazer novos amigos.',\n",
       "  '',\n",
       "  'Segunda dose de reforço check \\n\\n#Vacina'],\n",
       " [datetime.datetime(2022, 8, 2, 19, 3, 26),\n",
       "  'ELEICAO/22-Valeska🇧 🇴 🇱 🇸 🇴 🇳 🇦 🇷 🇴 22',\n",
       "  'BOLSONARISTA SIM, COM ORGULHO!\\nEU NÃO VOTO EM LULADRÃO! GENTE HONESTA NÃO VOTA EM LULADRÃO!💚🇧🇷 Em 2022, é BOLSONARO 2️⃣2️⃣\\n(criação 28/03/22)',\n",
       "  'Espírito Santo, Brasil',\n",
       "  '@RICNoticias24h @CNNBrasil e @JovemPanNews mostraram hj aNOTÍCIA d fato q já ocorreu 1 mês e 2 meses atrás...👇\\nQue… https://t.co/y04dN8NsSZ'],\n",
       " [datetime.datetime(2022, 8, 2, 18, 40, 53),\n",
       "  'Yuri Bacuri',\n",
       "  'Quando eu crescer quero ser criança.',\n",
       "  'Belém, PA',\n",
       "  'Um bacuri imunizado pela 4a vez não quer guerra com ninguem. É aquele papo: se não postar não faz efeito. 😬✅ \\n.\\n.\\n.… https://t.co/DvvPd5AOcC'],\n",
       " [datetime.datetime(2022, 8, 2, 17, 55, 9),\n",
       "  'Diário de S. Paulo',\n",
       "  'Conta oficial do jornal Diário de S.Paulo. Acompanhe as principais notícias também pelo nosso Instagram: https://t.co/YetUglV72q',\n",
       "  'São Paulo',\n",
       "  '#AsMaisLidas Entenda o caso #vacina \\nhttps://t.co/KXwcZAZyK8'],\n",
       " [datetime.datetime(2022, 8, 2, 17, 47, 16),\n",
       "  'UniCiência',\n",
       "  'Olá, UniCientistas! O canal é apresentado pelo Dr. Gustavo Moreira, pesquisador e cientista formado em Biotecnologia. Fique bem informado e divirta-se!',\n",
       "  'Brasil',\n",
       "  'Um compilado de informações sobre as subvariantes da Ômicron e como podemos ficar protegidos contra esses novos Cor… https://t.co/l4rJZi8sr3']]"
      ]
     },
     "execution_count": 21,
     "metadata": {},
     "output_type": "execute_result"
    }
   ],
   "source": [
    "lista_tweets[:10]"
   ]
  },
  {
   "cell_type": "markdown",
   "metadata": {},
   "source": [
    "## Criando um dataframe para armazenar os tweets coletados\n",
    "\n",
    "O próximo passo é criar um dataframe que será utilizado para armezenar todo o conteúdo coletado dos tweets."
   ]
  },
  {
   "cell_type": "code",
   "execution_count": 22,
   "metadata": {},
   "outputs": [],
   "source": [
    "df_tweets= pd.DataFrame(lista_tweets, columns=['data', 'nome', 'descricao', 'localidade', 'post'])"
   ]
  },
  {
   "cell_type": "markdown",
   "metadata": {},
   "source": [
    "### Visualizando tweets de forma estruturada em um dataframe"
   ]
  },
  {
   "cell_type": "code",
   "execution_count": 23,
   "metadata": {},
   "outputs": [
    {
     "data": {
      "text/html": [
       "<div>\n",
       "<style scoped>\n",
       "    .dataframe tbody tr th:only-of-type {\n",
       "        vertical-align: middle;\n",
       "    }\n",
       "\n",
       "    .dataframe tbody tr th {\n",
       "        vertical-align: top;\n",
       "    }\n",
       "\n",
       "    .dataframe thead th {\n",
       "        text-align: right;\n",
       "    }\n",
       "</style>\n",
       "<table border=\"1\" class=\"dataframe\">\n",
       "  <thead>\n",
       "    <tr style=\"text-align: right;\">\n",
       "      <th></th>\n",
       "      <th>data</th>\n",
       "      <th>nome</th>\n",
       "      <th>descricao</th>\n",
       "      <th>localidade</th>\n",
       "      <th>post</th>\n",
       "    </tr>\n",
       "  </thead>\n",
       "  <tbody>\n",
       "    <tr>\n",
       "      <th>0</th>\n",
       "      <td>2022-08-02 23:43:53</td>\n",
       "      <td>Luisa Diele-Viegas 🦎 ⭐️</td>\n",
       "      <td>PhD in Ecology and Evolution. Scientist. Herpe...</td>\n",
       "      <td></td>\n",
       "      <td>Eu: 2,5 anos de pandemia sem pegar COVID e man...</td>\n",
       "    </tr>\n",
       "    <tr>\n",
       "      <th>1</th>\n",
       "      <td>2022-08-02 22:01:49</td>\n",
       "      <td>Sobre Tudo</td>\n",
       "      <td>Notícias sobre tudo do Brasil e do mundo, fiqu...</td>\n",
       "      <td></td>\n",
       "      <td>🚨 Mais de 15 mil doses da vacina contra a COVI...</td>\n",
       "    </tr>\n",
       "    <tr>\n",
       "      <th>2</th>\n",
       "      <td>2022-08-02 21:50:20</td>\n",
       "      <td>Grupo do bem estar</td>\n",
       "      <td>Pessoas que se encontram para colocar a ARTE, ...</td>\n",
       "      <td>São Paulo, BRASIL</td>\n",
       "      <td>#Brasil tem mais de 1.500 casos confirmados de...</td>\n",
       "    </tr>\n",
       "    <tr>\n",
       "      <th>3</th>\n",
       "      <td>2022-08-02 21:02:56</td>\n",
       "      <td>Jornal de Alagoas</td>\n",
       "      <td>Melhor site de notícias de Alagoas. Sempre atu...</td>\n",
       "      <td>Alagoas, Brasil</td>\n",
       "      <td>Maceió começa a vacinar crianças de 4 anos con...</td>\n",
       "    </tr>\n",
       "    <tr>\n",
       "      <th>4</th>\n",
       "      <td>2022-08-02 19:27:14</td>\n",
       "      <td>Rafael Rossi</td>\n",
       "      <td>Jornalista Esportivo (Sports Journalist), Apre...</td>\n",
       "      <td>Cedral (SP-Brasil)</td>\n",
       "      <td>#Mirassol #regiao #Noticias #COVID  #Covid19 #...</td>\n",
       "    </tr>\n",
       "    <tr>\n",
       "      <th>...</th>\n",
       "      <td>...</td>\n",
       "      <td>...</td>\n",
       "      <td>...</td>\n",
       "      <td>...</td>\n",
       "      <td>...</td>\n",
       "    </tr>\n",
       "    <tr>\n",
       "      <th>95</th>\n",
       "      <td>2022-07-29 17:14:21</td>\n",
       "      <td>Rafael Aloisio Freitas</td>\n",
       "      <td>Vereador no município do RJ, 1° Secretário da ...</td>\n",
       "      <td>Rio de Janeiro, Brasil</td>\n",
       "      <td>👀👉Fique atento ao calendário de vacinação cont...</td>\n",
       "    </tr>\n",
       "    <tr>\n",
       "      <th>96</th>\n",
       "      <td>2022-07-29 16:32:26</td>\n",
       "      <td>ianthomaz 🏳️‍🌈</td>\n",
       "      <td>TOC - TAMANHA OVERDOSE DE CAOS</td>\n",
       "      <td>40.755313,-73.969521</td>\n",
       "      <td>Relato importante! Triste como foi preciso pas...</td>\n",
       "    </tr>\n",
       "    <tr>\n",
       "      <th>97</th>\n",
       "      <td>2022-07-29 16:21:57</td>\n",
       "      <td>Quiropraxia Zona Norte SP ☯</td>\n",
       "      <td>☯ Freguesia do Ó ZN.SP - Quiropraxia. Cuida da...</td>\n",
       "      <td>São Paulo SP</td>\n",
       "      <td>#novidades  #g1  #saúde   #vacina  #TVCultura ...</td>\n",
       "    </tr>\n",
       "    <tr>\n",
       "      <th>98</th>\n",
       "      <td>2022-07-29 15:38:19</td>\n",
       "      <td>Vinícius Borges ❤️‍🩹🏳️‍🌈</td>\n",
       "      <td>Médico infectologista que se dedica ao estudo ...</td>\n",
       "      <td>São Paulo, Brasil</td>\n",
       "      <td>Brasil registrou a primeira morte por complica...</td>\n",
       "    </tr>\n",
       "    <tr>\n",
       "      <th>99</th>\n",
       "      <td>2022-07-29 14:20:42</td>\n",
       "      <td>Guarulhos Online</td>\n",
       "      <td>Você Conectado!\\n📊Cobertura dos principais aco...</td>\n",
       "      <td>Guarulhos, Brasil</td>\n",
       "      <td>Varíola dos macacos: entenda a transmissão, os...</td>\n",
       "    </tr>\n",
       "  </tbody>\n",
       "</table>\n",
       "<p>100 rows × 5 columns</p>\n",
       "</div>"
      ],
      "text/plain": [
       "                  data                         nome  \\\n",
       "0  2022-08-02 23:43:53      Luisa Diele-Viegas 🦎 ⭐️   \n",
       "1  2022-08-02 22:01:49                   Sobre Tudo   \n",
       "2  2022-08-02 21:50:20           Grupo do bem estar   \n",
       "3  2022-08-02 21:02:56            Jornal de Alagoas   \n",
       "4  2022-08-02 19:27:14                 Rafael Rossi   \n",
       "..                 ...                          ...   \n",
       "95 2022-07-29 17:14:21       Rafael Aloisio Freitas   \n",
       "96 2022-07-29 16:32:26               ianthomaz 🏳️‍🌈   \n",
       "97 2022-07-29 16:21:57  Quiropraxia Zona Norte SP ☯   \n",
       "98 2022-07-29 15:38:19     Vinícius Borges ❤️‍🩹🏳️‍🌈   \n",
       "99 2022-07-29 14:20:42             Guarulhos Online   \n",
       "\n",
       "                                            descricao              localidade  \\\n",
       "0   PhD in Ecology and Evolution. Scientist. Herpe...                           \n",
       "1   Notícias sobre tudo do Brasil e do mundo, fiqu...                           \n",
       "2   Pessoas que se encontram para colocar a ARTE, ...       São Paulo, BRASIL   \n",
       "3   Melhor site de notícias de Alagoas. Sempre atu...         Alagoas, Brasil   \n",
       "4   Jornalista Esportivo (Sports Journalist), Apre...      Cedral (SP-Brasil)   \n",
       "..                                                ...                     ...   \n",
       "95  Vereador no município do RJ, 1° Secretário da ...  Rio de Janeiro, Brasil   \n",
       "96                     TOC - TAMANHA OVERDOSE DE CAOS    40.755313,-73.969521   \n",
       "97  ☯ Freguesia do Ó ZN.SP - Quiropraxia. Cuida da...            São Paulo SP   \n",
       "98  Médico infectologista que se dedica ao estudo ...       São Paulo, Brasil   \n",
       "99  Você Conectado!\\n📊Cobertura dos principais aco...       Guarulhos, Brasil   \n",
       "\n",
       "                                                 post  \n",
       "0   Eu: 2,5 anos de pandemia sem pegar COVID e man...  \n",
       "1   🚨 Mais de 15 mil doses da vacina contra a COVI...  \n",
       "2   #Brasil tem mais de 1.500 casos confirmados de...  \n",
       "3   Maceió começa a vacinar crianças de 4 anos con...  \n",
       "4   #Mirassol #regiao #Noticias #COVID  #Covid19 #...  \n",
       "..                                                ...  \n",
       "95  👀👉Fique atento ao calendário de vacinação cont...  \n",
       "96  Relato importante! Triste como foi preciso pas...  \n",
       "97  #novidades  #g1  #saúde   #vacina  #TVCultura ...  \n",
       "98  Brasil registrou a primeira morte por complica...  \n",
       "99  Varíola dos macacos: entenda a transmissão, os...  \n",
       "\n",
       "[100 rows x 5 columns]"
      ]
     },
     "execution_count": 23,
     "metadata": {},
     "output_type": "execute_result"
    }
   ],
   "source": [
    "df_tweets"
   ]
  },
  {
   "cell_type": "markdown",
   "metadata": {},
   "source": [
    "# Armazenando os tweets coletados\n",
    "\n",
    "Existem diversas maneiras de armazenar os dados coletados do Twitter. E uma delas é criar um arquivo do tipo texto. Abaixo segue um exemplo que gera um arquivo do tipo CSV."
   ]
  },
  {
   "cell_type": "code",
   "execution_count": 24,
   "metadata": {},
   "outputs": [],
   "source": [
    "df_tweets.to_csv('tweets_coletados.csv', sep=';', encoding='utf8')"
   ]
  },
  {
   "cell_type": "markdown",
   "metadata": {},
   "source": [
    "Pronto! Coleta de dados realizada com sucesso! "
   ]
  }
 ],
 "metadata": {
  "kernelspec": {
   "display_name": "Python 3",
   "language": "python",
   "name": "python3"
  },
  "language_info": {
   "codemirror_mode": {
    "name": "ipython",
    "version": 3
   },
   "file_extension": ".py",
   "mimetype": "text/x-python",
   "name": "python",
   "nbconvert_exporter": "python",
   "pygments_lexer": "ipython3",
   "version": "3.9.0"
  }
 },
 "nbformat": 4,
 "nbformat_minor": 4
}
